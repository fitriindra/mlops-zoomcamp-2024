{
 "cells": [
  {
   "cell_type": "markdown",
   "metadata": {},
   "source": [
    "# Homework\n",
    "The goal of this homework is to get familiar with MLflow, the tool for experiment tracking and model management."
   ]
  },
  {
   "cell_type": "markdown",
   "metadata": {},
   "source": [
    "## Q1. Install MLflow\n",
    "To get started with MLflow you'll need to install the MLflow Python package.\n",
    "\n",
    "For this we recommend creating a separate Python environment, for example, you can use [conda environments](https://docs.conda.io/projects/conda/en/latest/user-guide/getting-started.html#managing-envs), and then install the package there with `pip` or `conda`.\n",
    "\n",
    "Once you installed the package, run the command `mlflow --version` and check the output.\n",
    "\n",
    "What's the version that you have?"
   ]
  },
  {
   "cell_type": "code",
   "execution_count": 1,
   "metadata": {},
   "outputs": [
    {
     "name": "stdout",
     "output_type": "stream",
     "text": [
      "mlflow, version 2.13.0\n"
     ]
    }
   ],
   "source": [
    "# run in command prompt: \n",
    "# conda create -n experiment-tracking-env python=3.9\n",
    "# conda activate experiment-tracking-env\n",
    "# pip install -r requirements.txt\n",
    "!mlflow --version"
   ]
  },
  {
   "cell_type": "markdown",
   "metadata": {},
   "source": [
    "## Q2. Download and preprocess the data\n",
    "We'll use the Green Taxi Trip Records dataset to predict the duration of each trip.\n",
    "\n",
    "Download the data for January, February and March 2023 in parquet format from [here](https://www1.nyc.gov/site/tlc/about/tlc-trip-record-data.page).\n",
    "\n",
    "Use the script `preprocess_data.py` located in the folder [homework](https://github.com/DataTalksClub/mlops-zoomcamp/blob/main/cohorts/2024/02-experiment-tracking/homework) to preprocess the data.\n",
    "\n",
    "The script will:\n",
    "\n",
    "load the data from the folder `<TAXI_DATA_FOLDER>` (the folder where you have downloaded the data),\n",
    "fit a `DictVectorize`r on the training set (January 2023 data),\n",
    "save the preprocessed datasets and the `DictVectorizer` to disk.\n",
    "Your task is to download the datasets and then execute this command:\n",
    "\n",
    "`python preprocess_data.py --raw_data_path <TAXI_DATA_FOLDER> --dest_path ./output`\n",
    "\n",
    "Tip: go to `02-experiment-tracking/homework/` folder before executing the command and change the value of `<TAXI_DATA_FOLDER>` to the location where you saved the data.\n",
    "\n",
    "How many files were saved to OUTPUT_FOLDER?\n",
    "\n",
    "- 1\n",
    "- 3\n",
    "- 4\n",
    "- 7"
   ]
  },
  {
   "cell_type": "code",
   "execution_count": 3,
   "metadata": {},
   "outputs": [
    {
     "name": "stdout",
     "output_type": "stream",
     "text": [
      "\n",
      "Saved under data//green_tripdata_2023-01.parquet\n",
      "\n",
      "Saved under data//green_tripdata_2023-02.parquet\n",
      "\n",
      "Saved under data//green_tripdata_2023-03.parquet\n"
     ]
    }
   ],
   "source": [
    "#downloading Green Taxi Trip data and place it under `taxi-data` folder\n",
    "!python -m wget https://d37ci6vzurychx.cloudfront.net/trip-data/green_tripdata_2023-01.parquet -o data/\n",
    "!python -m wget https://d37ci6vzurychx.cloudfront.net/trip-data/green_tripdata_2023-02.parquet -o data/\n",
    "!python -m wget https://d37ci6vzurychx.cloudfront.net/trip-data/green_tripdata_2023-03.parquet -o data/"
   ]
  },
  {
   "cell_type": "code",
   "execution_count": 4,
   "metadata": {},
   "outputs": [],
   "source": [
    "!python scripts/preprocess_data.py --raw_data_path data/  --dest_path output/"
   ]
  },
  {
   "cell_type": "markdown",
   "metadata": {},
   "source": [
    "## Q3. Train a model with autolog\n",
    "We will train a `RandomForestRegressor` (from Scikit-Learn) on the taxi dataset.\n",
    "\n",
    "We have prepared the training script `train.py` for this exercise, which can be also found in the folder `homework`.\n",
    "\n",
    "The script will:\n",
    "\n",
    "load the datasets produced by the previous step,\n",
    "train the model on the training set,\n",
    "calculate the RMSE score on the validation set.\n",
    "Your task is to modify the script to enable autologging with MLflow, execute the script and then launch the MLflow UI to check that the experiment run was properly tracked.\n",
    "\n",
    "Tip 1: don't forget to wrap the training code with a with `mlflow.start_run()`: statement as we showed in the videos.\n",
    "\n",
    "Tip 2: don't modify the hyperparameters of the model to make sure that the training will finish quickly.\n",
    "\n",
    "What is the value of the `min_samples_split` parameter:\n",
    "\n",
    "- 2\n",
    "- 4\n",
    "- 8\n",
    "- 10"
   ]
  },
  {
   "cell_type": "code",
   "execution_count": null,
   "metadata": {},
   "outputs": [],
   "source": []
  },
  {
   "cell_type": "markdown",
   "metadata": {},
   "source": [
    "To enable mlflow UI:\n",
    "run in command prompt `mlflow ui --backend-store-uri sqlite:///mlflow.db`\n",
    "\n",
    "modify [train.py](scripts/train.py) file to enable MLFlow"
   ]
  },
  {
   "cell_type": "code",
   "execution_count": 11,
   "metadata": {},
   "outputs": [
    {
     "name": "stdout",
     "output_type": "stream",
     "text": [
      "running training output/\n",
      "rmse 5.431162180141208\n"
     ]
    },
    {
     "name": "stderr",
     "output_type": "stream",
     "text": [
      "2024/05/30 11:37:14 WARNING mlflow.utils.autologging_utils: You are using an unsupported version of sklearn. If you encounter errors during autologging, try upgrading / downgrading sklearn to a supported version, or try upgrading MLflow.\n",
      "2024/05/30 11:37:21 INFO mlflow.tracking.fluent: Autologging successfully enabled for sklearn.\n",
      "2024/05/30 11:37:25 WARNING mlflow.sklearn: Failed to log training dataset information to MLflow Tracking. Reason: 'numpy.ndarray' object has no attribute 'toarray'\n",
      "2024/05/30 11:38:15 WARNING mlflow.utils.autologging_utils: MLflow autologging encountered a warning: \"g:\\Programs\\miniconda3\\envs\\experiment-tracking-env\\lib\\site-packages\\_distutils_hack\\__init__.py:26: UserWarning: Setuptools is replacing distutils.\"\n"
     ]
    }
   ],
   "source": [
    "!python scripts/train.py --data_path output/"
   ]
  },
  {
   "cell_type": "markdown",
   "metadata": {},
   "source": [
    "![mlflow-train](assets/mlflow-train.png)"
   ]
  },
  {
   "cell_type": "markdown",
   "metadata": {},
   "source": [
    "## Q4. Launch the tracking server locally\n",
    "Now we want to manage the entire lifecycle of our ML model. In this step, you'll need to launch a tracking server. This way we will also have access to the model registry.\n",
    "\n",
    "Your task is to:\n",
    "\n",
    "- launch the tracking server on your local machine,\n",
    "- select a SQLite db for the backend store and a folder called `artifacts` for the artifacts store.\n",
    "You should keep the tracking server running to work on the next two exercises that use the server.\n",
    "\n",
    "In addition to `backend-store-uri`, what else do you need to pass to properly configure the server?\n",
    "\n",
    "- default-artifact-root\n",
    "- serve-artifacts\n",
    "- artifacts-only\n",
    "- artifacts-destination"
   ]
  },
  {
   "cell_type": "markdown",
   "metadata": {},
   "source": [
    "run in command prompt:\n",
    "\n",
    "``` \n",
    "mlflow server \\\n",
    "--backend-store-uri sqlite:///mlflow.db \\    \n",
    "--default-artifact-root artifacts\n",
    "```"
   ]
  },
  {
   "cell_type": "markdown",
   "metadata": {},
   "source": [
    "## Q5. Tune model hyperparameters\n",
    "Now let's try to reduce the validation error by tuning the hyperparameters of the `RandomForestRegressor` using hyperopt. We have prepared the script `hpo.py` for this exercise.\n",
    "\n",
    "Your task is to modify the script `hpo.py` and make sure that the validation RMSE is logged to the tracking server for each run of the hyperparameter optimization (you will need to add a few lines of code to the objective function) and run the script without passing any parameters.\n",
    "\n",
    "After that, open UI and explore the runs from the experiment called `random-forest-hyperopt` to answer the question below.\n",
    "\n",
    "Note: Don't use autologging for this exercise.\n",
    "\n",
    "The idea is to just log the information that you need to answer the question below, including:\n",
    "\n",
    "the list of hyperparameters that are passed to the `objective` function during the optimization,\n",
    "the RMSE obtained on the validation set (February 2023 data).\n",
    "What's the best validation RMSE that you got?\n",
    "\n",
    "- 4.817\n",
    "- 5.335\n",
    "- 5.818\n",
    "- 6.336"
   ]
  },
  {
   "cell_type": "markdown",
   "metadata": {},
   "source": [
    "modify [hpo.py](scripts/hpo.py) to log RMSE "
   ]
  },
  {
   "cell_type": "code",
   "execution_count": 12,
   "metadata": {},
   "outputs": [
    {
     "name": "stdout",
     "output_type": "stream",
     "text": [
      "\n",
      "  0%|          | 0/15 [00:00<?, ?trial/s, best loss=?]\n",
      "  7%|▋         | 1/15 [00:12<03:01, 12.96s/trial, best loss: 5.370086069268862]\n",
      " 13%|█▎        | 2/15 [00:13<01:15,  5.83s/trial, best loss: 5.370086069268862]\n",
      " 20%|██        | 3/15 [00:15<00:45,  3.81s/trial, best loss: 5.370086069268862]\n",
      " 27%|██▋       | 4/15 [00:22<00:57,  5.22s/trial, best loss: 5.357490752366866]\n",
      " 33%|███▎      | 5/15 [00:26<00:48,  4.80s/trial, best loss: 5.357490752366866]\n",
      " 40%|████      | 6/15 [00:38<01:04,  7.12s/trial, best loss: 5.354695072530291]\n",
      " 47%|████▋     | 7/15 [00:50<01:09,  8.69s/trial, best loss: 5.354695072530291]\n",
      " 53%|█████▎    | 8/15 [00:51<00:45,  6.48s/trial, best loss: 5.354695072530291]\n",
      " 60%|██████    | 9/15 [00:59<00:40,  6.80s/trial, best loss: 5.354695072530291]\n",
      " 67%|██████▋   | 10/15 [01:05<00:33,  6.72s/trial, best loss: 5.354695072530291]\n",
      " 73%|███████▎  | 11/15 [01:12<00:26,  6.58s/trial, best loss: 5.335419588556921]\n",
      " 80%|████████  | 12/15 [01:18<00:19,  6.45s/trial, best loss: 5.335419588556921]\n",
      " 87%|████████▋ | 13/15 [01:21<00:10,  5.32s/trial, best loss: 5.335419588556921]\n",
      " 93%|█████████▎| 14/15 [01:27<00:05,  5.64s/trial, best loss: 5.335419588556921]\n",
      "100%|██████████| 15/15 [01:35<00:00,  6.41s/trial, best loss: 5.335419588556921]\n",
      "100%|██████████| 15/15 [01:35<00:00,  6.38s/trial, best loss: 5.335419588556921]\n"
     ]
    },
    {
     "name": "stderr",
     "output_type": "stream",
     "text": [
      "2024/05/30 11:57:19 INFO mlflow.tracking.fluent: Experiment with name 'random-forest-hyperopt' does not exist. Creating a new experiment.\n"
     ]
    }
   ],
   "source": [
    "!python scripts/hpo.py --data_path output/"
   ]
  },
  {
   "cell_type": "markdown",
   "metadata": {},
   "source": [
    "![mlflow-rmse](assets/mlflow-rmse.png)"
   ]
  },
  {
   "cell_type": "markdown",
   "metadata": {},
   "source": [
    "## Q6. Promote the best model to the model registry\n",
    "The results from the hyperparameter optimization are quite good. So, we can assume that we are ready to test some of these models in production. In this exercise, you'll promote the best model to the model registry. We have prepared a script called register_model.py, which will check the results from the previous step and select the top 5 runs. After that, it will calculate the RMSE of those models on the test set (March 2023 data) and save the results to a new experiment called `random-forest-best-models`.\n",
    "\n",
    "Your task is to update the script `register_model.py` so that it selects the model with the lowest RMSE on the test set and registers it to the model registry.\n",
    "\n",
    "Tip 1: you can use the method `search_runs` from the `MlflowClient` to get the model with the lowest RMSE,\n",
    "\n",
    "Tip 2: to register the model you can use the method `mlflow.register_model` and you will need to pass the right `model_uri` in the form of a string that looks like this: `\"runs:/<RUN_ID>/model\"`, and the name of the model (make sure to choose a good one!).\n",
    "\n",
    "What is the test RMSE of the best model?\n",
    "\n",
    "- 5.060\n",
    "- 5.567\n",
    "- 6.061\n",
    "- 6.568"
   ]
  },
  {
   "cell_type": "markdown",
   "metadata": {},
   "source": [
    "modify [register_model.py](scripts/register_model.py)"
   ]
  },
  {
   "cell_type": "code",
   "execution_count": 15,
   "metadata": {},
   "outputs": [
    {
     "name": "stderr",
     "output_type": "stream",
     "text": [
      "2024/05/30 12:27:50 WARNING mlflow.utils.autologging_utils: You are using an unsupported version of sklearn. If you encounter errors during autologging, try upgrading / downgrading sklearn to a supported version, or try upgrading MLflow.\n",
      "2024/05/30 12:27:58 WARNING mlflow.sklearn: Failed to log training dataset information to MLflow Tracking. Reason: 'numpy.ndarray' object has no attribute 'toarray'\n",
      "2024/05/30 12:28:16 WARNING mlflow.utils.autologging_utils: MLflow autologging encountered a warning: \"g:\\Programs\\miniconda3\\envs\\experiment-tracking-env\\lib\\site-packages\\_distutils_hack\\__init__.py:26: UserWarning: Setuptools is replacing distutils.\"\n",
      "2024/05/30 12:28:39 WARNING mlflow.sklearn: Failed to log training dataset information to MLflow Tracking. Reason: 'numpy.ndarray' object has no attribute 'toarray'\n",
      "2024/05/30 12:29:40 WARNING mlflow.sklearn: Failed to log training dataset information to MLflow Tracking. Reason: 'numpy.ndarray' object has no attribute 'toarray'\n",
      "2024/05/30 12:30:47 WARNING mlflow.sklearn: Failed to log training dataset information to MLflow Tracking. Reason: 'numpy.ndarray' object has no attribute 'toarray'\n",
      "2024/05/30 12:31:34 WARNING mlflow.sklearn: Failed to log training dataset information to MLflow Tracking. Reason: 'numpy.ndarray' object has no attribute 'toarray'\n",
      "Registered model 'green-taxi-randomforest-bestmodel' already exists. Creating a new version of this model...\n",
      "2024/05/30 12:32:25 INFO mlflow.store.model_registry.abstract_store: Waiting up to 300 seconds for model version to finish creation. Model name: green-taxi-randomforest-bestmodel, version 2\n",
      "Created version '2' of model 'green-taxi-randomforest-bestmodel'.\n"
     ]
    }
   ],
   "source": [
    "!python scripts/register_model.py --data_path output/"
   ]
  },
  {
   "cell_type": "markdown",
   "metadata": {},
   "source": [
    "experiment list in MLFlow UI:\n",
    "![mlflow-model-registry](assets/mlflow-model-registry.png)\n",
    "\n",
    "Best model can be seen in Models tab:\n",
    "![mlflow-best-model](assets/mlflow-best-model.png)"
   ]
  }
 ],
 "metadata": {
  "kernelspec": {
   "display_name": "Python 3",
   "language": "python",
   "name": "python3"
  },
  "language_info": {
   "codemirror_mode": {
    "name": "ipython",
    "version": 3
   },
   "file_extension": ".py",
   "mimetype": "text/x-python",
   "name": "python",
   "nbconvert_exporter": "python",
   "pygments_lexer": "ipython3",
   "version": "3.9.19"
  }
 },
 "nbformat": 4,
 "nbformat_minor": 2
}
