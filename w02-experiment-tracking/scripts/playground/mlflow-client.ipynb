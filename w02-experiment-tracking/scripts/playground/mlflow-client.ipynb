{
 "cells": [
  {
   "cell_type": "code",
   "execution_count": 1,
   "metadata": {},
   "outputs": [],
   "source": [
    "from mlflow.tracking import MlflowClient\n",
    "MLFLOW_TRACKING_URI = \"sqlite:///mlflow.db\"\n",
    "client = MlflowClient(tracking_uri=MLFLOW_TRACKING_URI)"
   ]
  },
  {
   "cell_type": "markdown",
   "metadata": {},
   "source": [
    "## Display all experiments in MLFlow database"
   ]
  },
  {
   "cell_type": "code",
   "execution_count": 3,
   "metadata": {},
   "outputs": [
    {
     "data": {
      "text/plain": [
       "[<Experiment: artifact_location='file:///g:/Workspace/mlops-zoomcamp-2024/w02-experiment-tracking/scripts/playground/mlruns/1', creation_time=1718872759501, experiment_id='1', last_update_time=1718872759501, lifecycle_stage='active', name='nyc-taxi-experiment', tags={}>,\n",
       " <Experiment: artifact_location='file:///g:/Workspace/mlops-zoomcamp-2024/w02-experiment-tracking/scripts/playground/mlruns/0', creation_time=1718872759442, experiment_id='0', last_update_time=1718872759442, lifecycle_stage='active', name='Default', tags={}>]"
      ]
     },
     "execution_count": 3,
     "metadata": {},
     "output_type": "execute_result"
    }
   ],
   "source": [
    "client.search_experiments()"
   ]
  },
  {
   "cell_type": "markdown",
   "metadata": {},
   "source": [
    "## Creating experiment"
   ]
  },
  {
   "cell_type": "code",
   "execution_count": null,
   "metadata": {},
   "outputs": [],
   "source": [
    "client.create_experiment(name=\"new-experiment\")"
   ]
  },
  {
   "cell_type": "markdown",
   "metadata": {},
   "source": [
    "## Searching and displaying run informations "
   ]
  },
  {
   "cell_type": "code",
   "execution_count": 15,
   "metadata": {},
   "outputs": [
    {
     "data": {
      "text/plain": [
       "[<Run: data=<RunData: metrics={'rmse': 5.113606600306735}, params={'learning_rate': '0.08846978225899743',\n",
       "  'max_depth': '39',\n",
       "  'min_child_weight': '3.452827755032979',\n",
       "  'objective': 'reg:linear',\n",
       "  'reg_alpha': '0.01599788029454435',\n",
       "  'reg_lambda': '0.23899980164449322',\n",
       "  'seed': '42'}, tags={'mlflow.runName': 'caring-frog-509',\n",
       "  'mlflow.source.name': 'g:\\\\Programs\\\\miniconda3\\\\envs\\\\experiment-tracking-env\\\\lib\\\\site-packages\\\\ipykernel_launcher.py',\n",
       "  'mlflow.source.type': 'LOCAL',\n",
       "  'mlflow.user': 'Fitri',\n",
       "  'model': 'xgboost'}>, info=<RunInfo: artifact_uri='file:///g:/Workspace/mlops-zoomcamp-2024/w02-experiment-tracking/scripts/playground/mlruns/1/97a9eeee02854907abef2cdc5f9ec511/artifacts', end_time=1718876288730, experiment_id='1', lifecycle_stage='active', run_id='97a9eeee02854907abef2cdc5f9ec511', run_name='caring-frog-509', run_uuid='97a9eeee02854907abef2cdc5f9ec511', start_time=1718876076234, status='FINISHED', user_id='Fitri'>, inputs=<RunInputs: dataset_inputs=[]>>,\n",
       " <Run: data=<RunData: metrics={'rmse': 5.121242088684439}, params={'learning_rate': '0.19485132233619104',\n",
       "  'max_depth': '22',\n",
       "  'min_child_weight': '4.097353518886988',\n",
       "  'objective': 'reg:linear',\n",
       "  'reg_alpha': '0.11459117891451508',\n",
       "  'reg_lambda': '0.24774463681194298',\n",
       "  'seed': '42'}, tags={'mlflow.runName': 'adaptable-shrimp-216',\n",
       "  'mlflow.source.name': 'g:\\\\Programs\\\\miniconda3\\\\envs\\\\experiment-tracking-env\\\\lib\\\\site-packages\\\\ipykernel_launcher.py',\n",
       "  'mlflow.source.type': 'LOCAL',\n",
       "  'mlflow.user': 'Fitri',\n",
       "  'model': 'xgboost'}>, info=<RunInfo: artifact_uri='file:///g:/Workspace/mlops-zoomcamp-2024/w02-experiment-tracking/scripts/playground/mlruns/1/818f595024684063872bc0bd1a53fc8d/artifacts', end_time=1718877570140, experiment_id='1', lifecycle_stage='active', run_id='818f595024684063872bc0bd1a53fc8d', run_name='adaptable-shrimp-216', run_uuid='818f595024684063872bc0bd1a53fc8d', start_time=1718877495046, status='FINISHED', user_id='Fitri'>, inputs=<RunInputs: dataset_inputs=[]>>,\n",
       " <Run: data=<RunData: metrics={'rmse': 5.121864151128713}, params={'learning_rate': '0.17315308280629768',\n",
       "  'max_depth': '10',\n",
       "  'min_child_weight': '4.339061704990466',\n",
       "  'objective': 'reg:linear',\n",
       "  'reg_alpha': '0.11694688556169253',\n",
       "  'reg_lambda': '0.1432224480087244',\n",
       "  'seed': '42'}, tags={'mlflow.runName': 'exultant-bat-709',\n",
       "  'mlflow.source.name': 'g:\\\\Programs\\\\miniconda3\\\\envs\\\\experiment-tracking-env\\\\lib\\\\site-packages\\\\ipykernel_launcher.py',\n",
       "  'mlflow.source.type': 'LOCAL',\n",
       "  'mlflow.user': 'Fitri',\n",
       "  'model': 'xgboost'}>, info=<RunInfo: artifact_uri='file:///g:/Workspace/mlops-zoomcamp-2024/w02-experiment-tracking/scripts/playground/mlruns/1/deb2df26e5fa4e769b73ebf851458a35/artifacts', end_time=1718877718546, experiment_id='1', lifecycle_stage='active', run_id='deb2df26e5fa4e769b73ebf851458a35', run_name='exultant-bat-709', run_uuid='deb2df26e5fa4e769b73ebf851458a35', start_time=1718877655700, status='FINISHED', user_id='Fitri'>, inputs=<RunInputs: dataset_inputs=[]>>,\n",
       " <Run: data=<RunData: metrics={'rmse': 5.123187473412643}, params={'learning_rate': '0.15060193309557496',\n",
       "  'max_depth': '15',\n",
       "  'min_child_weight': '2.548274261242206',\n",
       "  'objective': 'reg:linear',\n",
       "  'reg_alpha': '0.009033207307455084',\n",
       "  'reg_lambda': '0.0650164653051676',\n",
       "  'seed': '42'}, tags={'mlflow.runName': 'classy-stork-484',\n",
       "  'mlflow.source.name': 'g:\\\\Programs\\\\miniconda3\\\\envs\\\\experiment-tracking-env\\\\lib\\\\site-packages\\\\ipykernel_launcher.py',\n",
       "  'mlflow.source.type': 'LOCAL',\n",
       "  'mlflow.user': 'Fitri',\n",
       "  'model': 'xgboost'}>, info=<RunInfo: artifact_uri='file:///g:/Workspace/mlops-zoomcamp-2024/w02-experiment-tracking/scripts/playground/mlruns/1/66af7fca1b334ed48b68b4caaee7ef42/artifacts', end_time=1718878702689, experiment_id='1', lifecycle_stage='active', run_id='66af7fca1b334ed48b68b4caaee7ef42', run_name='classy-stork-484', run_uuid='66af7fca1b334ed48b68b4caaee7ef42', start_time=1718878629008, status='FINISHED', user_id='Fitri'>, inputs=<RunInputs: dataset_inputs=[]>>,\n",
       " <Run: data=<RunData: metrics={'rmse': 5.125852918631384}, params={'learning_rate': '0.15260799650997323',\n",
       "  'max_depth': '16',\n",
       "  'min_child_weight': '2.2771052664187326',\n",
       "  'objective': 'reg:linear',\n",
       "  'reg_alpha': '0.1326878790681364',\n",
       "  'reg_lambda': '0.11941075953778647',\n",
       "  'seed': '42'}, tags={'mlflow.runName': 'wistful-seal-923',\n",
       "  'mlflow.source.name': 'g:\\\\Programs\\\\miniconda3\\\\envs\\\\experiment-tracking-env\\\\lib\\\\site-packages\\\\ipykernel_launcher.py',\n",
       "  'mlflow.source.type': 'LOCAL',\n",
       "  'mlflow.user': 'Fitri',\n",
       "  'model': 'xgboost'}>, info=<RunInfo: artifact_uri='file:///g:/Workspace/mlops-zoomcamp-2024/w02-experiment-tracking/scripts/playground/mlruns/1/e1468e1ea1e4491690d05371e595c968/artifacts', end_time=1718878113931, experiment_id='1', lifecycle_stage='active', run_id='e1468e1ea1e4491690d05371e595c968', run_name='wistful-seal-923', run_uuid='e1468e1ea1e4491690d05371e595c968', start_time=1718878050676, status='FINISHED', user_id='Fitri'>, inputs=<RunInputs: dataset_inputs=[]>>]"
      ]
     },
     "execution_count": 15,
     "metadata": {},
     "output_type": "execute_result"
    }
   ],
   "source": [
    "from mlflow.entities import ViewType\n",
    "\n",
    "runs = client.search_runs(\n",
    "    experiment_ids='1',\n",
    "    filter_string=\"\",\n",
    "    run_view_type=ViewType.ACTIVE_ONLY,\n",
    "    max_results=5,\n",
    "    order_by=[\"metrics.rmse ASC\"]\n",
    ")\n",
    "\n",
    "runs"
   ]
  },
  {
   "cell_type": "code",
   "execution_count": 17,
   "metadata": {},
   "outputs": [
    {
     "name": "stdout",
     "output_type": "stream",
     "text": [
      "run id 97a9eeee02854907abef2cdc5f9ec511, rmse: 5.1136\n",
      "run id 818f595024684063872bc0bd1a53fc8d, rmse: 5.1212\n",
      "run id deb2df26e5fa4e769b73ebf851458a35, rmse: 5.1219\n",
      "run id 66af7fca1b334ed48b68b4caaee7ef42, rmse: 5.1232\n",
      "run id e1468e1ea1e4491690d05371e595c968, rmse: 5.1259\n"
     ]
    }
   ],
   "source": [
    "for run in runs:\n",
    "    print(f\"run id {run.info.run_id}, rmse: {run.data.metrics['rmse']:.4f}\")"
   ]
  },
  {
   "cell_type": "markdown",
   "metadata": {},
   "source": [
    "## Registering Model"
   ]
  },
  {
   "cell_type": "code",
   "execution_count": 30,
   "metadata": {},
   "outputs": [],
   "source": [
    "import mlflow\n",
    "\n",
    "mlflow.set_tracking_uri(MLFLOW_TRACKING_URI)\n",
    "\n",
    "run_id = \"274c0ad95d9f49d89f5d4e1611c2f1c5\"\n",
    "model_uri = f\"runs/{run_id}/models_mlflow\"\n",
    "mlflow.register_model(model_uri=model_uri, name=\"nyc-xgboost\")"
   ]
  },
  {
   "cell_type": "code",
   "execution_count": 21,
   "metadata": {},
   "outputs": [
    {
     "data": {
      "text/plain": [
       "[<RegisteredModel: aliases={}, creation_timestamp=1718883614461, description='', last_updated_timestamp=1718883615381, latest_versions=[<ModelVersion: aliases=[], creation_timestamp=1718883615381, current_stage='None', description='', last_updated_timestamp=1718883615381, name='nyc-xgboost', run_id='274c0ad95d9f49d89f5d4e1611c2f1c5', run_link='', source='file:///g:/Workspace/mlops-zoomcamp-2024/w02-experiment-tracking/scripts/playground/mlruns/1/274c0ad95d9f49d89f5d4e1611c2f1c5/artifacts/models_mlflow', status='READY', status_message=None, tags={}, user_id=None, version=1>], name='nyc-xgboost', tags={}>]"
      ]
     },
     "execution_count": 21,
     "metadata": {},
     "output_type": "execute_result"
    }
   ],
   "source": [
    "client.search_registered_models()"
   ]
  },
  {
   "cell_type": "code",
   "execution_count": 22,
   "metadata": {},
   "outputs": [
    {
     "name": "stdout",
     "output_type": "stream",
     "text": [
      "version: 1\n"
     ]
    },
    {
     "name": "stderr",
     "output_type": "stream",
     "text": [
      "C:\\Users\\Fitri\\AppData\\Local\\Temp\\ipykernel_18780\\3537920727.py:2: FutureWarning: ``mlflow.tracking.client.MlflowClient.get_latest_versions`` is deprecated since 2.9.0. Model registry stages will be removed in a future major release. To learn more about the deprecation of model registry stages, see our migration guide here: https://mlflow.org/docs/2.13.0/model-registry.html#migrating-from-stages\n",
      "  latest_version = client.get_latest_versions(name=model_name)\n"
     ]
    }
   ],
   "source": [
    "model_name = \"nyc-xgboost\"\n",
    "latest_version = client.get_latest_versions(name=model_name)\n",
    "\n",
    "for version in latest_version:\n",
    "    print(f\"version: {version.version}\")"
   ]
  },
  {
   "cell_type": "code",
   "execution_count": null,
   "metadata": {},
   "outputs": [],
   "source": [
    "client.transition_model_version_stage(\n",
    "    name=model_name,\n",
    "    version=1,\n",
    "    stage=\"Staging\",\n",
    "    archive_existing_versions=False\n",
    ")"
   ]
  },
  {
   "cell_type": "code",
   "execution_count": null,
   "metadata": {},
   "outputs": [],
   "source": [
    "from datetime import datetime\n",
    "\n",
    "model_version = 1\n",
    "new_stage = \"Staging\"\n",
    "date = datetime.today().date()\n",
    "\n",
    "client.update_model_version(\n",
    "    name=model_name,\n",
    "    version=model_version,\n",
    "    description=f\"The model version {model_version} was transitioned into {new_stage} on {date}\"\n",
    ")"
   ]
  },
  {
   "cell_type": "markdown",
   "metadata": {},
   "source": [
    "> `get_latest_version` and staging transitions `transition_model_version_stage` are deprecated since 2.9.0"
   ]
  },
  {
   "cell_type": "markdown",
   "metadata": {},
   "source": [
    "## Load Model and Download Artifacts"
   ]
  },
  {
   "cell_type": "code",
   "execution_count": 36,
   "metadata": {},
   "outputs": [],
   "source": [
    "from sklearn.metrics import root_mean_squared_error\n",
    "import pandas as pd\n",
    "\n",
    "\n",
    "def read_dataframe(filename):\n",
    "    df = pd.read_parquet(filename)\n",
    "\n",
    "    df.lpep_dropoff_datetime = pd.to_datetime(df.lpep_dropoff_datetime)\n",
    "    df.lpep_pickup_datetime = pd.to_datetime(df.lpep_pickup_datetime)\n",
    "\n",
    "    df['duration'] = df.lpep_dropoff_datetime - df.lpep_pickup_datetime\n",
    "    df.duration = df.duration.apply(lambda td: td.total_seconds() / 60)\n",
    "\n",
    "    df = df[(df.duration >= 1) & (df.duration <= 60)]\n",
    "\n",
    "    categorical = ['PULocationID', 'DOLocationID']\n",
    "    df[categorical] = df[categorical].astype(str)\n",
    "    \n",
    "    return df\n",
    "\n",
    "\n",
    "def preprocess(df, dv):\n",
    "    df['PU_DO'] = df['PULocationID'] + '_' + df['DOLocationID']\n",
    "    categorical = ['PU_DO']\n",
    "    numerical = ['trip_distance']\n",
    "    train_dicts = df[categorical + numerical].to_dict(orient='records')\n",
    "    return dv.transform(train_dicts)\n",
    "\n",
    "\n",
    "def test_model(name, stage, X_test, y_test):\n",
    "    model = mlflow.pyfunc.load_model(f\"models:/{name}/{stage}\")\n",
    "    y_pred = model.predict(X_test)\n",
    "    return {\"rmse\": root_mean_squared_error(y_test, y_pred)}"
   ]
  },
  {
   "cell_type": "code",
   "execution_count": 37,
   "metadata": {},
   "outputs": [],
   "source": [
    "df = read_dataframe(\"../../data/green_tripdata_2023-03.parquet\")"
   ]
  },
  {
   "cell_type": "markdown",
   "metadata": {},
   "source": [
    "to download preprocessor artifacts:"
   ]
  },
  {
   "cell_type": "code",
   "execution_count": 40,
   "metadata": {},
   "outputs": [
    {
     "data": {
      "application/vnd.jupyter.widget-view+json": {
       "model_id": "3af37d86aa8d4e8f98679f0204a0a576",
       "version_major": 2,
       "version_minor": 0
      },
      "text/plain": [
       "Downloading artifacts:   0%|          | 0/1 [00:00<?, ?it/s]"
      ]
     },
     "metadata": {},
     "output_type": "display_data"
    }
   ],
   "source": [
    "import pickle\n",
    "\n",
    "client.download_artifacts(run_id=run_id, path='preprocessor', dst_path='.')\n",
    "\n",
    "with open(\"preprocessor/preprocessor.b\", \"rb\") as f_in:\n",
    "    dv = pickle.load(f_in)\n",
    "\n",
    "X_test = preprocess(df,dv)\n",
    "target = \"duration\"\n",
    "y_test = df[target].values"
   ]
  },
  {
   "cell_type": "markdown",
   "metadata": {},
   "source": [
    "test the model:"
   ]
  },
  {
   "cell_type": "code",
   "execution_count": 44,
   "metadata": {},
   "outputs": [
    {
     "name": "stderr",
     "output_type": "stream",
     "text": [
      "g:\\Programs\\miniconda3\\envs\\experiment-tracking-env\\lib\\site-packages\\mlflow\\store\\artifact\\utils\\models.py:32: FutureWarning: ``mlflow.tracking.client.MlflowClient.get_latest_versions`` is deprecated since 2.9.0. Model registry stages will be removed in a future major release. To learn more about the deprecation of model registry stages, see our migration guide here: https://mlflow.org/docs/2.13.0/model-registry.html#migrating-from-stages\n",
      "  latest = client.get_latest_versions(name, None if stage is None else [stage])\n",
      "g:\\Programs\\miniconda3\\envs\\experiment-tracking-env\\lib\\site-packages\\xgboost\\core.py:160: UserWarning: [20:06:09] WARNING: C:\\buildkite-agent\\builds\\buildkite-windows-cpu-autoscaling-group-i-0b3782d1791676daf-1\\xgboost\\xgboost-ci-windows\\src\\objective\\regression_obj.cu:209: reg:linear is now deprecated in favor of reg:squarederror.\n",
      "  warnings.warn(smsg, UserWarning)\n"
     ]
    },
    {
     "name": "stdout",
     "output_type": "stream",
     "text": [
      "CPU times: total: 21.1 s\n",
      "Wall time: 1min 10s\n"
     ]
    },
    {
     "data": {
      "text/plain": [
       "{'rmse': 5.371714556554583}"
      ]
     },
     "execution_count": 44,
     "metadata": {},
     "output_type": "execute_result"
    }
   ],
   "source": [
    "%time test_model(name=model_name, stage=\"None\", X_test=X_test, y_test=y_test)"
   ]
  }
 ],
 "metadata": {
  "kernelspec": {
   "display_name": "experiment-tracking-env",
   "language": "python",
   "name": "python3"
  },
  "language_info": {
   "codemirror_mode": {
    "name": "ipython",
    "version": 3
   },
   "file_extension": ".py",
   "mimetype": "text/x-python",
   "name": "python",
   "nbconvert_exporter": "python",
   "pygments_lexer": "ipython3",
   "version": "3.9.19"
  }
 },
 "nbformat": 4,
 "nbformat_minor": 2
}
